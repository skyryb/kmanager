{
 "cells": [
  {
   "cell_type": "markdown",
   "metadata": {},
   "source": [
    "# Exercício_2\n"
   ]
  },
  {
   "cell_type": "markdown",
   "metadata": {},
   "source": [
    "# Entrada\n"
   ]
  },
  {
   "cell_type": "code",
   "execution_count": 3,
   "metadata": {},
   "outputs": [
    {
     "name": "stdout",
     "output_type": "stream",
     "text": [
      "Digite o primeiro valor:2\n",
      "Digite o segundo valor:3\n"
     ]
    }
   ],
   "source": [
    "num1=int(input(\"Digite o primeiro valor:\"))\n",
    "num2=int(input(\"Digite o segundo valor:\"))"
   ]
  },
  {
   "cell_type": "markdown",
   "metadata": {},
   "source": [
    " # Processamento"
   ]
  },
  {
   "cell_type": "code",
   "execution_count": 4,
   "metadata": {},
   "outputs": [
    {
     "name": "stdout",
     "output_type": "stream",
     "text": [
      "Os valores na ordem inversa são: 3 e 2 \n",
      "Primeiro valor: 2 \n",
      "Segundo valor: 3\n"
     ]
    }
   ],
   "source": [
    "print(\"Os valores na ordem inversa são: %d e %d \\nPrimeiro valor: %d \\nSegundo valor: %d\" %(num2,num1,num1,num2) )"
   ]
  },
  {
   "cell_type": "markdown",
   "metadata": {},
   "source": [
    "# Final"
   ]
  },
  {
   "cell_type": "code",
   "execution_count": 5,
   "metadata": {},
   "outputs": [
    {
     "name": "stdout",
     "output_type": "stream",
     "text": [
      "Digite o primeiro valor:2\n",
      "Digite o segundo valor:8\n",
      "Os valores na ordem inversa são: 8 e 2 \n",
      "Primeiro valor: 2 \n",
      "Segundo valor: 8\n"
     ]
    }
   ],
   "source": [
    "num1=int(input(\"Digite o primeiro valor:\"))\n",
    "num2=int(input(\"Digite o segundo valor:\"))\n",
    "print(\"Os valores na ordem inversa são: %d e %d \\nPrimeiro valor: %d \\nSegundo valor: %d\" %(num2,num1,num1,num2) )"
   ]
  }
 ],
 "metadata": {
  "kernelspec": {
   "display_name": "Python 3",
   "language": "python",
   "name": "python3"
  },
  "language_info": {
   "codemirror_mode": {
    "name": "ipython",
    "version": 3
   },
   "file_extension": ".py",
   "mimetype": "text/x-python",
   "name": "python",
   "nbconvert_exporter": "python",
   "pygments_lexer": "ipython3",
   "version": "3.8.1"
  }
 },
 "nbformat": 4,
 "nbformat_minor": 4
}
