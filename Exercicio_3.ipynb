{
 "cells": [
  {
   "cell_type": "markdown",
   "metadata": {},
   "source": [
    "# Exercicio_3\n"
   ]
  },
  {
   "cell_type": "markdown",
   "metadata": {},
   "source": [
    "# Entrada"
   ]
  },
  {
   "cell_type": "code",
   "execution_count": 18,
   "metadata": {},
   "outputs": [
    {
     "name": "stdout",
     "output_type": "stream",
     "text": [
      "Digite quantos segundos o evento durou:7265786\n"
     ]
    }
   ],
   "source": [
    "num1=int(input(\"Digite quantos segundos o evento durou:\"))"
   ]
  },
  {
   "cell_type": "markdown",
   "metadata": {},
   "source": [
    "# Processamento"
   ]
  },
  {
   "cell_type": "code",
   "execution_count": 19,
   "metadata": {},
   "outputs": [],
   "source": [
    "tm= num1 / 60\n",
    "th= tm / 60\n",
    "#th=num1/(60*60)"
   ]
  },
  {
   "cell_type": "markdown",
   "metadata": {},
   "source": [
    "# Saida"
   ]
  },
  {
   "cell_type": "code",
   "execution_count": 20,
   "metadata": {},
   "outputs": [
    {
     "name": "stdout",
     "output_type": "stream",
     "text": [
      "O tempo em horas da duração do evento é: 2018.27 hora(s)\n"
     ]
    }
   ],
   "source": [
    "print(\"O tempo em horas da duração do evento é: %.2f hora(s)\" %(th))"
   ]
  },
  {
   "cell_type": "markdown",
   "metadata": {},
   "source": [
    "# Final "
   ]
  },
  {
   "cell_type": "code",
   "execution_count": 21,
   "metadata": {},
   "outputs": [
    {
     "name": "stdout",
     "output_type": "stream",
     "text": [
      "Digite quantos segundos o evento durou:2341341234134134\n",
      "O tempo em horas da duração do evento é: 650372565037.26 hora(s)\n"
     ]
    }
   ],
   "source": [
    "num1=int(input(\"Digite quantos segundos o evento durou:\"))\n",
    "tm= num1 / 60\n",
    "th= tm / 60\n",
    "#th=num1/(60*60)\n",
    "print(\"O tempo em horas da duração do evento é: %.2f hora(s)\" %(th))"
   ]
  }
 ],
 "metadata": {
  "kernelspec": {
   "display_name": "Python 3",
   "language": "python",
   "name": "python3"
  },
  "language_info": {
   "codemirror_mode": {
    "name": "ipython",
    "version": 3
   },
   "file_extension": ".py",
   "mimetype": "text/x-python",
   "name": "python",
   "nbconvert_exporter": "python",
   "pygments_lexer": "ipython3",
   "version": "3.8.1"
  }
 },
 "nbformat": 4,
 "nbformat_minor": 4
}
