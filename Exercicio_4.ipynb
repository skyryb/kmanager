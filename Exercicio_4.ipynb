{
 "cells": [
  {
   "cell_type": "markdown",
   "metadata": {},
   "source": [
    "# Exercicio_4"
   ]
  },
  {
   "cell_type": "markdown",
   "metadata": {},
   "source": [
    "# Entrada\n"
   ]
  },
  {
   "cell_type": "code",
   "execution_count": 15,
   "metadata": {},
   "outputs": [
    {
     "name": "stdout",
     "output_type": "stream",
     "text": [
      "Digite o valor da altura em metro(s):8\n",
      "Digite o valor da base do triângulo em metros(s):5\n"
     ]
    }
   ],
   "source": [
    "altura=int(input(\"Digite o valor da altura em metro(s):\"))\n",
    "base=int(input(\"Digite o valor da base do triângulo em metros(s):\"))"
   ]
  },
  {
   "cell_type": "markdown",
   "metadata": {},
   "source": [
    "# Processamento"
   ]
  },
  {
   "cell_type": "code",
   "execution_count": 16,
   "metadata": {},
   "outputs": [],
   "source": [
    "area= (base*altura)/2"
   ]
  },
  {
   "cell_type": "markdown",
   "metadata": {},
   "source": [
    "# Saida"
   ]
  },
  {
   "cell_type": "code",
   "execution_count": 17,
   "metadata": {},
   "outputs": [
    {
     "name": "stdout",
     "output_type": "stream",
     "text": [
      "A área do triângulo é: 20.000\n"
     ]
    }
   ],
   "source": [
    "print(\"A área do triângulo é: %.3f\" %(area))"
   ]
  },
  {
   "cell_type": "markdown",
   "metadata": {},
   "source": [
    "# Final\n"
   ]
  },
  {
   "cell_type": "code",
   "execution_count": 18,
   "metadata": {},
   "outputs": [
    {
     "name": "stdout",
     "output_type": "stream",
     "text": [
      "Digite o valor da altura em metro(s):8\n",
      "Digite o valor da base do triângulo em metros(s):2\n",
      "A área do triângulo é: 8.000\n"
     ]
    }
   ],
   "source": [
    "altura=int(input(\"Digite o valor da altura em metro(s):\"))\n",
    "base=int(input(\"Digite o valor da base do triângulo em metros(s):\"))\n",
    "area= (base*altura)/2\n",
    "print(\"A área do triângulo é: %.3f\" %(area))"
   ]
  }
 ],
 "metadata": {
  "kernelspec": {
   "display_name": "Python 3",
   "language": "python",
   "name": "python3"
  },
  "language_info": {
   "codemirror_mode": {
    "name": "ipython",
    "version": 3
   },
   "file_extension": ".py",
   "mimetype": "text/x-python",
   "name": "python",
   "nbconvert_exporter": "python",
   "pygments_lexer": "ipython3",
   "version": "3.8.1"
  }
 },
 "nbformat": 4,
 "nbformat_minor": 4
}
