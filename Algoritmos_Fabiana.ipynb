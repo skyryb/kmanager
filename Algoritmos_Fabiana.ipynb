{
 "cells": [
  {
   "cell_type": "markdown",
   "metadata": {},
   "source": [
    "Exercicios_Algoritmos_extra_classe <br>\n",
    "22_02_2020 <br>\n",
    "Exercicio_1"
   ]
  },
  {
   "cell_type": "markdown",
   "metadata": {},
   "source": [
    "# ENTRADA"
   ]
  },
  {
   "cell_type": "code",
   "execution_count": 8,
   "metadata": {},
   "outputs": [
    {
     "name": "stdout",
     "output_type": "stream",
     "text": [
      "Digite o primeiro valor:3\n",
      "Digite o segundo valor:2\n"
     ]
    }
   ],
   "source": [
    "num1=int(input(\"Digite o primeiro valor:\"))\n",
    "num2=int(input(\"Digite o segundo valor:\"))"
   ]
  },
  {
   "cell_type": "markdown",
   "metadata": {},
   "source": [
    "# PROCESSAMENTO"
   ]
  },
  {
   "cell_type": "code",
   "execution_count": 10,
   "metadata": {},
   "outputs": [],
   "source": [
    "media = (num1 + num2) / 2"
   ]
  },
  {
   "cell_type": "markdown",
   "metadata": {},
   "source": [
    "# SAIDA"
   ]
  },
  {
   "cell_type": "code",
   "execution_count": 28,
   "metadata": {},
   "outputs": [
    {
     "name": "stdout",
     "output_type": "stream",
     "text": [
      "A média dos valores é: 3.000 \tO primeiro valor é : 3 \tO segundo valor é : 3\n"
     ]
    }
   ],
   "source": [
    "print(\"A média dos valores é: %.3f \\tO primeiro valor é : %d \\tO segundo valor é : %d\" %(media,num1,num2))\n",
    "# print(f\"A média dos valores é: {media}\")\n",
    "# print(\"A média dos valores é: {}\".format(media))"
   ]
  },
  {
   "cell_type": "markdown",
   "metadata": {},
   "source": [
    "# Final"
   ]
  },
  {
   "cell_type": "code",
   "execution_count": 26,
   "metadata": {},
   "outputs": [
    {
     "name": "stdout",
     "output_type": "stream",
     "text": [
      "Digite o primeiro valor:3\n",
      "Digite o segundo valor:3\n",
      "A média dos valores é: 3.000 \tO primeiro valor é : 3 \tO segundo valor é: 3\n"
     ]
    }
   ],
   "source": [
    "num1=int(input(\"Digite o primeiro valor:\"))\n",
    "num2=int(input(\"Digite o segundo valor:\"))\n",
    "media = (num1 + num2) / 2\n",
    "print(\"A média dos valores é: %.3f \\tO primeiro valor é : %d \\tO segundo valor é: %d\" %(media,num1,num2))"
   ]
  }
 ],
 "metadata": {
  "kernelspec": {
   "display_name": "Python 3",
   "language": "python",
   "name": "python3"
  },
  "language_info": {
   "codemirror_mode": {
    "name": "ipython",
    "version": 3
   },
   "file_extension": ".py",
   "mimetype": "text/x-python",
   "name": "python",
   "nbconvert_exporter": "python",
   "pygments_lexer": "ipython3",
   "version": "3.8.1"
  }
 },
 "nbformat": 4,
 "nbformat_minor": 4
}
